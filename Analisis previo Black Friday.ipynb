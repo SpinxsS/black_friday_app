{
 "cells": [
  {
   "cell_type": "markdown",
   "metadata": {},
   "source": [
    "# Predicción de ventas para BlackFriday\n",
    "\n",
    "\n",
    "## Problema\n",
    "\n",
    "Un alto directivo de la empresa X está solicitando a nuestro equipo de ingenieros desarrollar un sistema que permita predecir información relevante para el próximo Blackfriday que se llevará a cabo en noviembre 23 del 2018, tomando como base los datos de ventas del blackfriday del año pasado que se llevó a cabo en noviembre 24 2017. \n",
    "\n",
    "El sistema debe ser capaz de responder las siguientes preguntas de forma gráfica y tabular (en tablas):\n",
    "\n",
    "1. Unidades que se venderán por producto.\n",
    "2. Total de ventas (valor de ventas) por producto en pesos. \n",
    "3. Top de compradores. \n",
    "4. ¿Nos comprarán más las personas solteras o las personas casadas? (en el dataset asumimos casadas como 1).\n",
    "5. ¿Nos comprarán más los hombres o las mujeres? \n",
    "6. Clasifique por edades, que producto que se venderá más.\n",
    "\n",
    "Para calcular los pesos se debe predecir el valor del dólar efectuando una regresión con los datos de dataset: TRM_Historico.xls \n",
    "* Se recomienda la librería [Bokeh](https://bokeh.pydata.org/en/latest/)\n",
    "\n",
    "## Requerimientos\n",
    "\n",
    "- El sistema debe usar ML para resolver las preguntas.\n",
    "- Django 2.1 y Python 3.7 (librerías de ML)\n",
    "- Postgress, en caso de requerir el uso de una BD\n",
    "\n",
    "## Observaciones\n",
    "\n",
    "#### TRM\n",
    "La TRM es la Tasa Representativa del Mercado cambiario de Colombia y representa el valor que tiene un dólar estadounidense en pesos colombianos. \n",
    "\n",
    "#### Limitantes\n",
    "- Detalle del crecimiento de la población:\n",
    "Esta predicción no toma en cuenta nuevos usuarios ni el crecimiento de la población de usuarios que accedio a la tienda en el último año.\n",
    "\n",
    "Para solventar esta limitación el modelo se puede ajustar con un factor de crecimiento de población, es decir, un dato parametrizable ingresado por el usuario. Cabe aclarar, que este dato es un valor de crecimiento general y no discrimina por la demografia del usuario.\n",
    "\n",
    "#### Versión de Django\n",
    "Se actualiza la versión del _framework Django_ a la **2.1.2** debido a que en la versión **2.1** se reporto recientemente un fuerte problema de seguridad."
   ]
  },
  {
   "cell_type": "markdown",
   "metadata": {},
   "source": [
    "## Primera parte: predicción del valor del dolar\n",
    "\n",
    "Vamos a realizar una regresión lineal con los datos de dataset: TRM_Historico.xls para predecir el valor del dolar el día 23-nov-2018, día en que se realizará el evento."
   ]
  },
  {
   "cell_type": "code",
   "execution_count": 179,
   "metadata": {},
   "outputs": [],
   "source": [
    "# importando librerias necesarias\n",
    "import numpy as np\n",
    "import pandas as pd\n",
    "import matplotlib.pyplot as plt\n",
    "import seaborn as sns\n",
    "\n",
    "%matplotlib inline\n",
    "sns.set()"
   ]
  },
  {
   "cell_type": "code",
   "execution_count": 416,
   "metadata": {},
   "outputs": [],
   "source": [
    "dolars = pd.read_excel('datasets/TRM_Historico.xls')"
   ]
  },
  {
   "cell_type": "code",
   "execution_count": 417,
   "metadata": {},
   "outputs": [
    {
     "data": {
      "text/html": [
       "<div>\n",
       "<style scoped>\n",
       "    .dataframe tbody tr th:only-of-type {\n",
       "        vertical-align: middle;\n",
       "    }\n",
       "\n",
       "    .dataframe tbody tr th {\n",
       "        vertical-align: top;\n",
       "    }\n",
       "\n",
       "    .dataframe thead th {\n",
       "        text-align: right;\n",
       "    }\n",
       "</style>\n",
       "<table border=\"1\" class=\"dataframe\">\n",
       "  <thead>\n",
       "    <tr style=\"text-align: right;\">\n",
       "      <th></th>\n",
       "      <th>Fecha</th>\n",
       "      <th>TRM</th>\n",
       "    </tr>\n",
       "  </thead>\n",
       "  <tbody>\n",
       "    <tr>\n",
       "      <th>0</th>\n",
       "      <td>1991-11-27</td>\n",
       "      <td>693.32</td>\n",
       "    </tr>\n",
       "    <tr>\n",
       "      <th>1</th>\n",
       "      <td>1991-11-28</td>\n",
       "      <td>693.99</td>\n",
       "    </tr>\n",
       "    <tr>\n",
       "      <th>2</th>\n",
       "      <td>1991-11-29</td>\n",
       "      <td>694.70</td>\n",
       "    </tr>\n",
       "    <tr>\n",
       "      <th>3</th>\n",
       "      <td>1991-11-30</td>\n",
       "      <td>694.70</td>\n",
       "    </tr>\n",
       "    <tr>\n",
       "      <th>4</th>\n",
       "      <td>1991-12-01</td>\n",
       "      <td>643.42</td>\n",
       "    </tr>\n",
       "  </tbody>\n",
       "</table>\n",
       "</div>"
      ],
      "text/plain": [
       "       Fecha     TRM\n",
       "0 1991-11-27  693.32\n",
       "1 1991-11-28  693.99\n",
       "2 1991-11-29  694.70\n",
       "3 1991-11-30  694.70\n",
       "4 1991-12-01  643.42"
      ]
     },
     "execution_count": 417,
     "metadata": {},
     "output_type": "execute_result"
    }
   ],
   "source": [
    "# explorando el dataset\n",
    "dolars.head()"
   ]
  },
  {
   "cell_type": "code",
   "execution_count": 418,
   "metadata": {},
   "outputs": [
    {
     "data": {
      "text/plain": [
       "Fecha    datetime64[ns]\n",
       "TRM             float64\n",
       "dtype: object"
      ]
     },
     "execution_count": 418,
     "metadata": {},
     "output_type": "execute_result"
    }
   ],
   "source": [
    "# consultando los tipos de datos\n",
    "dolars.dtypes"
   ]
  },
  {
   "cell_type": "code",
   "execution_count": 419,
   "metadata": {},
   "outputs": [
    {
     "name": "stdout",
     "output_type": "stream",
     "text": [
      "<class 'pandas.core.frame.DataFrame'>\n",
      "RangeIndex: 9821 entries, 0 to 9820\n",
      "Data columns (total 2 columns):\n",
      "Fecha    9821 non-null datetime64[ns]\n",
      "TRM      9821 non-null float64\n",
      "dtypes: datetime64[ns](1), float64(1)\n",
      "memory usage: 153.5 KB\n"
     ]
    }
   ],
   "source": [
    "# informacion del dataset\n",
    "dolars.info()"
   ]
  },
  {
   "cell_type": "code",
   "execution_count": 420,
   "metadata": {},
   "outputs": [
    {
     "data": {
      "text/html": [
       "<div>\n",
       "<style scoped>\n",
       "    .dataframe tbody tr th:only-of-type {\n",
       "        vertical-align: middle;\n",
       "    }\n",
       "\n",
       "    .dataframe tbody tr th {\n",
       "        vertical-align: top;\n",
       "    }\n",
       "\n",
       "    .dataframe thead th {\n",
       "        text-align: right;\n",
       "    }\n",
       "</style>\n",
       "<table border=\"1\" class=\"dataframe\">\n",
       "  <thead>\n",
       "    <tr style=\"text-align: right;\">\n",
       "      <th></th>\n",
       "      <th>TRM</th>\n",
       "    </tr>\n",
       "  </thead>\n",
       "  <tbody>\n",
       "    <tr>\n",
       "      <th>count</th>\n",
       "      <td>9821.000000</td>\n",
       "    </tr>\n",
       "    <tr>\n",
       "      <th>mean</th>\n",
       "      <td>1947.144108</td>\n",
       "    </tr>\n",
       "    <tr>\n",
       "      <th>std</th>\n",
       "      <td>705.396325</td>\n",
       "    </tr>\n",
       "    <tr>\n",
       "      <th>min</th>\n",
       "      <td>620.620000</td>\n",
       "    </tr>\n",
       "    <tr>\n",
       "      <th>25%</th>\n",
       "      <td>1397.120000</td>\n",
       "    </tr>\n",
       "    <tr>\n",
       "      <th>50%</th>\n",
       "      <td>1965.830000</td>\n",
       "    </tr>\n",
       "    <tr>\n",
       "      <th>75%</th>\n",
       "      <td>2389.750000</td>\n",
       "    </tr>\n",
       "    <tr>\n",
       "      <th>max</th>\n",
       "      <td>3434.890000</td>\n",
       "    </tr>\n",
       "  </tbody>\n",
       "</table>\n",
       "</div>"
      ],
      "text/plain": [
       "               TRM\n",
       "count  9821.000000\n",
       "mean   1947.144108\n",
       "std     705.396325\n",
       "min     620.620000\n",
       "25%    1397.120000\n",
       "50%    1965.830000\n",
       "75%    2389.750000\n",
       "max    3434.890000"
      ]
     },
     "execution_count": 420,
     "metadata": {},
     "output_type": "execute_result"
    }
   ],
   "source": [
    "dolars.describe()"
   ]
  },
  {
   "cell_type": "markdown",
   "metadata": {},
   "source": [
    "La exploración previa muestra que no tenemos valores nulos. Ahora vamos a modificar el indice"
   ]
  },
  {
   "cell_type": "code",
   "execution_count": 421,
   "metadata": {},
   "outputs": [],
   "source": [
    "dolars.index = dolars.Fecha\n",
    "dolars.index.names = ['index']"
   ]
  },
  {
   "cell_type": "code",
   "execution_count": 422,
   "metadata": {},
   "outputs": [
    {
     "data": {
      "text/html": [
       "<div>\n",
       "<style scoped>\n",
       "    .dataframe tbody tr th:only-of-type {\n",
       "        vertical-align: middle;\n",
       "    }\n",
       "\n",
       "    .dataframe tbody tr th {\n",
       "        vertical-align: top;\n",
       "    }\n",
       "\n",
       "    .dataframe thead th {\n",
       "        text-align: right;\n",
       "    }\n",
       "</style>\n",
       "<table border=\"1\" class=\"dataframe\">\n",
       "  <thead>\n",
       "    <tr style=\"text-align: right;\">\n",
       "      <th></th>\n",
       "      <th>Fecha</th>\n",
       "      <th>TRM</th>\n",
       "    </tr>\n",
       "    <tr>\n",
       "      <th>index</th>\n",
       "      <th></th>\n",
       "      <th></th>\n",
       "    </tr>\n",
       "  </thead>\n",
       "  <tbody>\n",
       "    <tr>\n",
       "      <th>1991-11-27</th>\n",
       "      <td>1991-11-27</td>\n",
       "      <td>693.32</td>\n",
       "    </tr>\n",
       "    <tr>\n",
       "      <th>1991-11-28</th>\n",
       "      <td>1991-11-28</td>\n",
       "      <td>693.99</td>\n",
       "    </tr>\n",
       "    <tr>\n",
       "      <th>1991-11-29</th>\n",
       "      <td>1991-11-29</td>\n",
       "      <td>694.70</td>\n",
       "    </tr>\n",
       "    <tr>\n",
       "      <th>1991-11-30</th>\n",
       "      <td>1991-11-30</td>\n",
       "      <td>694.70</td>\n",
       "    </tr>\n",
       "    <tr>\n",
       "      <th>1991-12-01</th>\n",
       "      <td>1991-12-01</td>\n",
       "      <td>643.42</td>\n",
       "    </tr>\n",
       "  </tbody>\n",
       "</table>\n",
       "</div>"
      ],
      "text/plain": [
       "                Fecha     TRM\n",
       "index                        \n",
       "1991-11-27 1991-11-27  693.32\n",
       "1991-11-28 1991-11-28  693.99\n",
       "1991-11-29 1991-11-29  694.70\n",
       "1991-11-30 1991-11-30  694.70\n",
       "1991-12-01 1991-12-01  643.42"
      ]
     },
     "execution_count": 422,
     "metadata": {},
     "output_type": "execute_result"
    }
   ],
   "source": [
    "dolars.head()"
   ]
  },
  {
   "cell_type": "code",
   "execution_count": 423,
   "metadata": {},
   "outputs": [
    {
     "data": {
      "image/png": "[encoded data removed]",
      "text/plain": [
       "<Figure size 1440x720 with 1 Axes>"
      ]
     },
     "metadata": {},
     "output_type": "display_data"
    }
   ],
   "source": [
    "dolars.plot(x='Fecha', y='TRM', figsize=(20,10), linewidth=3, fontsize=10)\n",
    "plt.xlabel('Year', fontsize=20);\n",
    "plt.show()"
   ]
  },
  {
   "cell_type": "code",
   "execution_count": 25,
   "metadata": {},
   "outputs": [],
   "source": [
    "# df_2000 = dolars.loc[pd.Timestamp('2000-01-01'):pd.Timestamp('2018-12-31')]"
   ]
  },
  {
   "cell_type": "markdown",
   "metadata": {},
   "source": [
    "Un modelo de regresión lineal solo funciona sobre tipos numericos, así que vamos a transformar nuestra fecha."
   ]
  },
  {
   "cell_type": "code",
   "execution_count": 424,
   "metadata": {},
   "outputs": [
    {
     "data": {
      "text/plain": [
       "dtype('<M8[ns]')"
      ]
     },
     "execution_count": 424,
     "metadata": {},
     "output_type": "execute_result"
    }
   ],
   "source": [
    "dolars['Fecha'].dtype\n"
   ]
  },
  {
   "cell_type": "code",
   "execution_count": 425,
   "metadata": {},
   "outputs": [],
   "source": [
    "import datetime as dt\n",
    "dolars['Fecha'] = pd.to_datetime(dolars['Fecha'])\n",
    "dolars['Fecha'] = dolars['Fecha'].map(dt.datetime.toordinal)"
   ]
  },
  {
   "cell_type": "code",
   "execution_count": 426,
   "metadata": {},
   "outputs": [
    {
     "data": {
      "text/plain": [
       "dtype('int64')"
      ]
     },
     "execution_count": 426,
     "metadata": {},
     "output_type": "execute_result"
    }
   ],
   "source": [
    "dolars['Fecha'].dtype"
   ]
  },
  {
   "cell_type": "code",
   "execution_count": 427,
   "metadata": {},
   "outputs": [],
   "source": [
    "dataX = dolars[[\"Fecha\"]]\n",
    "\n",
    "# genero el array 2d con indice y fecha\n",
    "dates = np.array(dataX)\n",
    "\n",
    "# valores del dolar en el indice X_train\n",
    "prices = dolars['TRM'].values"
   ]
  },
  {
   "cell_type": "code",
   "execution_count": 429,
   "metadata": {},
   "outputs": [
    {
     "data": {
      "text/html": [
       "<div>\n",
       "<style scoped>\n",
       "    .dataframe tbody tr th:only-of-type {\n",
       "        vertical-align: middle;\n",
       "    }\n",
       "\n",
       "    .dataframe tbody tr th {\n",
       "        vertical-align: top;\n",
       "    }\n",
       "\n",
       "    .dataframe thead th {\n",
       "        text-align: right;\n",
       "    }\n",
       "</style>\n",
       "<table border=\"1\" class=\"dataframe\">\n",
       "  <thead>\n",
       "    <tr style=\"text-align: right;\">\n",
       "      <th></th>\n",
       "      <th>Fecha</th>\n",
       "      <th>TRM</th>\n",
       "    </tr>\n",
       "    <tr>\n",
       "      <th>index</th>\n",
       "      <th></th>\n",
       "      <th></th>\n",
       "    </tr>\n",
       "  </thead>\n",
       "  <tbody>\n",
       "    <tr>\n",
       "      <th>2018-10-12</th>\n",
       "      <td>736979</td>\n",
       "      <td>3087.34</td>\n",
       "    </tr>\n",
       "    <tr>\n",
       "      <th>2018-10-13</th>\n",
       "      <td>736980</td>\n",
       "      <td>3088.78</td>\n",
       "    </tr>\n",
       "    <tr>\n",
       "      <th>2018-10-14</th>\n",
       "      <td>736981</td>\n",
       "      <td>3088.78</td>\n",
       "    </tr>\n",
       "    <tr>\n",
       "      <th>2018-10-15</th>\n",
       "      <td>736982</td>\n",
       "      <td>3088.78</td>\n",
       "    </tr>\n",
       "    <tr>\n",
       "      <th>2018-10-16</th>\n",
       "      <td>736983</td>\n",
       "      <td>3088.78</td>\n",
       "    </tr>\n",
       "  </tbody>\n",
       "</table>\n",
       "</div>"
      ],
      "text/plain": [
       "             Fecha      TRM\n",
       "index                      \n",
       "2018-10-12  736979  3087.34\n",
       "2018-10-13  736980  3088.78\n",
       "2018-10-14  736981  3088.78\n",
       "2018-10-15  736982  3088.78\n",
       "2018-10-16  736983  3088.78"
      ]
     },
     "execution_count": 429,
     "metadata": {},
     "output_type": "execute_result"
    }
   ],
   "source": [
    "dolars.tail()"
   ]
  },
  {
   "cell_type": "code",
   "execution_count": 430,
   "metadata": {},
   "outputs": [],
   "source": [
    "from sklearn.linear_model import LinearRegression\n",
    "from sklearn.model_selection import train_test_split\n",
    "\n",
    "# separar datos dataset de entrenamiento\n",
    "X_train, X_test, y_train, y_test = train_test_split(dates, prices)"
   ]
  },
  {
   "cell_type": "code",
   "execution_count": 504,
   "metadata": {},
   "outputs": [
    {
     "data": {
      "text/plain": [
       "LinearRegression(copy_X=True, fit_intercept=True, n_jobs=None,\n",
       "         normalize=False)"
      ]
     },
     "execution_count": 504,
     "metadata": {},
     "output_type": "execute_result"
    }
   ],
   "source": [
    "# Creamos el objeto LinearRegression (Modelo)\n",
    "regr = LinearRegression()\n",
    "\n",
    "# Ajustamos a nuestro modelo con los datos\n",
    "regr.fit(X_train, y_train)"
   ]
  },
  {
   "cell_type": "code",
   "execution_count": 505,
   "metadata": {},
   "outputs": [
    {
     "name": "stdout",
     "output_type": "stream",
     "text": [
      "Coeficiente: \n",
      " [0.18615266] -134328.46392319226\n"
     ]
    }
   ],
   "source": [
    "# Imprimimos el Coeficiente estimado para el problema\n",
    "print('Coeficiente: \\n', regr.coef_, regr.intercept_)"
   ]
  },
  {
   "cell_type": "code",
   "execution_count": 506,
   "metadata": {},
   "outputs": [
    {
     "data": {
      "text/plain": [
       "array([1821.9177529 , 1993.17820202, 2487.41351986, ..., 2647.69096191,\n",
       "       1464.13233637, 2026.87183385])"
      ]
     },
     "execution_count": 506,
     "metadata": {},
     "output_type": "execute_result"
    }
   ],
   "source": [
    "regr.predict(X_test)"
   ]
  },
  {
   "cell_type": "markdown",
   "metadata": {},
   "source": [
    "vamos a comparar con el primer dato de prueba, la Fecha: [729620] tiene una TRM de 1385.77"
   ]
  },
  {
   "cell_type": "code",
   "execution_count": 508,
   "metadata": {},
   "outputs": [
    {
     "name": "stdout",
     "output_type": "stream",
     "text": [
      "Fecha:  [731391] TRM 2815.26\n",
      "Fecha    729620.00\n",
      "TRM        1385.77\n",
      "Name: 1998-08-19 00:00:00, dtype: float64\n",
      "[1492.24138834]\n"
     ]
    }
   ],
   "source": [
    "print('Fecha: ',X_test[0], 'TRM', y_test[0])\n",
    "print(dolars.iloc[2457, :])\n",
    "print(regr.predict([[729620]]))"
   ]
  },
  {
   "cell_type": "code",
   "execution_count": 502,
   "metadata": {},
   "outputs": [
    {
     "name": "stdout",
     "output_type": "stream",
     "text": [
      "<class 'numpy.ndarray'> <class 'numpy.ndarray'> 95 95\n",
      "<class 'numpy.ndarray'> <class 'numpy.ndarray'> 2456 2456\n"
     ]
    }
   ],
   "source": [
    "print(type(x), type(y), len(x), len(y))\n",
    "print(type(x2), type(y_pred), len(x2), len(y_pred))"
   ]
  },
  {
   "cell_type": "code",
   "execution_count": 509,
   "metadata": {},
   "outputs": [
    {
     "data": {
      "image/png": "[encoded data removed]",
      "text/plain": [
       "<Figure size 432x288 with 1 Axes>"
      ]
     },
     "metadata": {},
     "output_type": "display_data"
    }
   ],
   "source": [
    "# Visualize the inputs and predicted values\n",
    "plt.scatter(X_test, y_pred)\n",
    "plt.xlabel('fecha')\n",
    "plt.ylabel('predictions')\n",
    "plt.show()"
   ]
  },
  {
   "cell_type": "code",
   "execution_count": 510,
   "metadata": {},
   "outputs": [
    {
     "name": "stdout",
     "output_type": "stream",
     "text": [
      "Coefficients: \n",
      " [0.18615266]\n",
      "Mean squared error: 223305.64\n",
      "Variance score: 0.54\n"
     ]
    }
   ],
   "source": [
    "# http://scikit-learn.org/stable/auto_examples/linear_model/plot_ols.html#sphx-glr-auto-examples-linear-model-plot-ols-py\n",
    "\n",
    "# coeficiente de determinación\n",
    "# mejor puntuación posible 1\n",
    "\n",
    "from sklearn.metrics import r2_score, mean_squared_error\n",
    "\n",
    "# The coefficients\n",
    "print('Coefficients: \\n', regr.coef_)\n",
    "\n",
    "# The mean squared error\n",
    "print(\"Mean squared error: %.2f\"\n",
    "      % mean_squared_error(y_test, y_pred))\n",
    "# Explained variance score: 1 is perfect prediction\n",
    "print('Variance score: %.2f' % r2_score(y_test, y_pred))"
   ]
  },
  {
   "cell_type": "code",
   "execution_count": 511,
   "metadata": {},
   "outputs": [
    {
     "name": "stdout",
     "output_type": "stream",
     "text": [
      "2018-11-23\n",
      "737021\n"
     ]
    }
   ],
   "source": [
    "# calcular la prediccion del dolar para la fecha deseada 23-nov-2018\n",
    "\n",
    "from datetime import datetime as dt\n",
    "d = dt.strptime('2018-11-23', '%Y-%m-%d').date()\n",
    "print(d)\n",
    "\n",
    "print(d.toordinal())\n"
   ]
  },
  {
   "cell_type": "code",
   "execution_count": 513,
   "metadata": {},
   "outputs": [
    {
     "name": "stdout",
     "output_type": "stream",
     "text": [
      "El valor de la TRM esperado para el Black Friday es: $2870.0 pesos\n"
     ]
    }
   ],
   "source": [
    "trm_bf_2018 = regr.predict([[737021]])\n",
    "print('El valor de la TRM esperado para el Black Friday es: ${} pesos'.format(round(trm_bf_2018[0])))"
   ]
  },
  {
   "cell_type": "markdown",
   "metadata": {},
   "source": [
    "## otra forma"
   ]
  },
  {
   "cell_type": "code",
   "execution_count": null,
   "metadata": {},
   "outputs": [],
   "source": [
    "from sklearn.linear_model import Ridge\n",
    "from sklearn.model_selection import cross_val_score\n",
    "\n",
    "# Use stock symbols to extract training data\n",
    "X = all_prices[['EBAY', 'NVDA', 'YHOO']]\n",
    "y = all_prices[['AAPL']]\n",
    "\n",
    "# Fit and score the model with cross-validation\n",
    "scores = cross_val_score(Ridge(), X, y, cv=3)\n",
    "print(scores)"
   ]
  },
  {
   "cell_type": "code",
   "execution_count": null,
   "metadata": {},
   "outputs": [],
   "source": [
    "from sklearn.model_selection import train_test_split\n",
    "from sklearn.metrics import r2_score\n",
    "\n",
    "# Split our data into training and test sets\n",
    "X_train, X_test, y_train, y_test = train_test_split(X, y, \n",
    "                                                    train_size=.8, shuffle=False, random_state=1)\n",
    "\n",
    "# Fit our model and generate predictions\n",
    "model = Ridge()\n",
    "model.fit(X_train, y_train)\n",
    "predictions = model.predict(X_test)\n",
    "score = r2_score(y_test, predictions)\n",
    "print(score)"
   ]
  },
  {
   "cell_type": "code",
   "execution_count": null,
   "metadata": {},
   "outputs": [],
   "source": [
    "# Visualize our predictions along with the \"true\" values, and print the score\n",
    "fig, ax = plt.subplots(figsize=(15, 5))\n",
    "ax.plot(y_test, color='k', lw=3)\n",
    "ax.plot(predictions, color='r', lw=2)\n",
    "plt.show()"
   ]
  }
 ],
 "metadata": {
  "kernelspec": {
   "display_name": "Python 3",
   "language": "python",
   "name": "python3"
  },
  "language_info": {
   "codemirror_mode": {
    "name": "ipython",
    "version": 3
   },
   "file_extension": ".py",
   "mimetype": "text/x-python",
   "name": "python",
   "nbconvert_exporter": "python",
   "pygments_lexer": "ipython3",
   "version": "3.5.4"
  }
 },
 "nbformat": 4,
 "nbformat_minor": 2
}
